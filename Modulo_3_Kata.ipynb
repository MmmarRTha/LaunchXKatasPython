{
 "cells": [
  {
   "cell_type": "code",
   "execution_count": 3,
   "metadata": {},
   "outputs": [
    {
     "name": "stdout",
     "output_type": "stream",
     "text": [
      "ALERTA! Se acerca un asteroide a la Tierra demasiado rapido y esta viajando a una velocidad de 49km/s\n"
     ]
    }
   ],
   "source": [
    "velocidad_asteriode = 49\n",
    "if velocidad_asteriode > 25:\n",
    "    print(\"ALERTA! Se acerca un asteroide a la Tierra demasiado rapido y esta viajando a una velocidad de \" + str(velocidad_asteriode) + \"km/s\")\n",
    "else:\n",
    "    print(\"Todo bien!\")"
   ]
  },
  {
   "cell_type": "code",
   "execution_count": 29,
   "metadata": {},
   "outputs": [
    {
     "name": "stdout",
     "output_type": "stream",
     "text": [
      "¡Hay un asteroide que se dirige a la tierra ahora a una velocidad de 19km/s! Nada de que preocuparse :)\n"
     ]
    }
   ],
   "source": [
    "velocidad_asteriode = 19\n",
    "if velocidad_asteriode >= 20 and velocidad_asteriode <= 25:\n",
    "    print(\"Mira al cielo! Hay un rayo de luz que se puede ver desde la Tierra y es un Asteroide!\")\n",
    "elif velocidad_asteriode > 25:\n",
    "    print(\"ALERTA! Se acerca un asteroide a la Tierra demasiado rapido y esta viajando a una velocidad de \" + str(velocidad_asteriode) + \"km/s\")\n",
    "else:\n",
    "    print(\"¡Hay un asteroide que se dirige a la tierra ahora a una velocidad de \" + str(velocidad_asteriode) + \"km/s! Nada de que preocuparse :)\")"
   ]
  },
  {
   "cell_type": "code",
   "execution_count": 43,
   "metadata": {},
   "outputs": [
    {
     "name": "stdout",
     "output_type": "stream",
     "text": [
      "¡Hay un asteroide que se dirige a la tierra ahora a una velocidad de 19km/s!Su tamanio es de 26km/s, nada de que preocuparse :)\n"
     ]
    }
   ],
   "source": [
    "velocidad_asteriode = 19\n",
    "tamano_asteroide = 26\n",
    "if velocidad_asteriode > 25 and tamano_asteroide > 25:\n",
    "    print(\"ALERTA! Se acerca un asteroide a la Tierra que podria causar mucho danio y esta viajando a una velocidad de \" + str(velocidad_asteriode) + \"km/s! Solo SUPERMAN nos puede salvar :(\")\n",
    "elif velocidad_asteriode >= 20 and velocidad_asteriode <= 25:\n",
    "    print(\"Mira al cielo! Hay un rayo de luz que se puede ver desde la Tierra y es un Asteroide!\")\n",
    "else:\n",
    "    print(\"¡Hay un asteroide que se dirige a la tierra ahora a una velocidad de \" + str(velocidad_asteriode) + \"km/s!\" + \"Su tamanio es de \" + str(tamano_asteroide) + \"km/s, nada de que preocuparse :)\")"
   ]
  }
 ],
 "metadata": {
  "interpreter": {
   "hash": "916dbcbb3f70747c44a77c7bcd40155683ae19c65e1c03b4aa3499c5328201f1"
  },
  "kernelspec": {
   "display_name": "Python 3.9.7 64-bit",
   "language": "python",
   "name": "python3"
  },
  "language_info": {
   "codemirror_mode": {
    "name": "ipython",
    "version": 3
   },
   "file_extension": ".py",
   "mimetype": "text/x-python",
   "name": "python",
   "nbconvert_exporter": "python",
   "pygments_lexer": "ipython3",
   "version": "3.9.7"
  },
  "orig_nbformat": 4
 },
 "nbformat": 4,
 "nbformat_minor": 2
}
